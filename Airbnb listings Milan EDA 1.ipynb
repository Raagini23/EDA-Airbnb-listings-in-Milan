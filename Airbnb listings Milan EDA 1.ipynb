{
 "cells": [
  {
   "cell_type": "markdown",
   "id": "b506a4a1-eedb-498b-8ea1-ea4ee21ad367",
   "metadata": {},
   "source": [
    "# Exploratory Data Analysis of Airbnb Listings in Milan, Italy"
   ]
  },
  {
   "cell_type": "markdown",
   "id": "7b438028-6478-406c-a61b-900bd8db1ba2",
   "metadata": {},
   "source": [
    "## Introduction"
   ]
  },
  {
   "cell_type": "markdown",
   "id": "c71b98fc-2809-4cfb-95d6-63b61cfc4595",
   "metadata": {},
   "source": [
    "##### Milan is Italy's fashion and design capital. It is not only known as the centre of art, culture, and commerce but is also a vibrant destination for various travelers. With its rich history, stunning architecture, and bustling city life, Milan attracts millions of visitors each year.\n",
    "\n",
    "##### In the recent years, the hospitality industry has completely transformed with the rise of platforms like Airbnb offering travelers a diverse range of accommodation options that are beyond traditional hotels. As one of the world's most popular travel destinations, Milan boasts a vast number of Airbnb listings, providing visitors with opportunities to immerse themselves in the city's local culture and lifestyle more than ever.\n",
    "\n",
    "##### This notebook presents an exploratory data analysis of Airbnb listings in Milan, making use of a dataset to uncover insights into various aspects of Airbnb offerings in the city."
   ]
  },
  {
   "cell_type": "markdown",
   "id": "9c69c267-7f2d-44fa-b4ad-4f8ea83e95e1",
   "metadata": {},
   "source": [
    "## Objective - Market Opportunity and Pricing Strategy:\n",
    "\n",
    "##### - Identify neighborhoods with high demand and optimal pricing strategies for Airbnb hosts to maximize revenue. \n",
    "##### - This objective would be useful for Airbnb hosts or property managers looking to enter the Milan market or optimize their existing listings. \n",
    "##### - I aim to investigate how data-driven pricing can lead to better profitability."
   ]
  },
  {
   "cell_type": "markdown",
   "id": "d45fccd3-e118-45fb-a800-2b332219193f",
   "metadata": {},
   "source": [
    "### Importing necessary libraries"
   ]
  },
  {
   "cell_type": "code",
   "execution_count": 1,
   "id": "64947924-ab6b-454f-917d-15699bcec92b",
   "metadata": {},
   "outputs": [],
   "source": [
    "import numpy as np\n",
    "import pandas as pd"
   ]
  },
  {
   "cell_type": "markdown",
   "id": "aed6264b-11e4-4b48-a797-9343c2d36bf0",
   "metadata": {},
   "source": [
    "#### Loading the Data:"
   ]
  },
  {
   "cell_type": "code",
   "execution_count": 3,
   "id": "441d1bb9-0e42-4a7c-9abf-2293166f78bd",
   "metadata": {},
   "outputs": [],
   "source": [
    "listings = pd.read_csv(\"C:/Users/STARIZ.PK/Desktop/DA_COURSE/listingssummary.csv\")"
   ]
  },
  {
   "cell_type": "markdown",
   "id": "cf731e01-833c-43a9-bd02-6927a0c7858d",
   "metadata": {},
   "source": [
    "## Understanding the data structure:"
   ]
  },
  {
   "cell_type": "code",
   "execution_count": 4,
   "id": "e6462336-fd55-409f-9aed-17dfa473aded",
   "metadata": {},
   "outputs": [
    {
     "data": {
      "text/html": [
       "<div>\n",
       "<style scoped>\n",
       "    .dataframe tbody tr th:only-of-type {\n",
       "        vertical-align: middle;\n",
       "    }\n",
       "\n",
       "    .dataframe tbody tr th {\n",
       "        vertical-align: top;\n",
       "    }\n",
       "\n",
       "    .dataframe thead th {\n",
       "        text-align: right;\n",
       "    }\n",
       "</style>\n",
       "<table border=\"1\" class=\"dataframe\">\n",
       "  <thead>\n",
       "    <tr style=\"text-align: right;\">\n",
       "      <th></th>\n",
       "      <th>id</th>\n",
       "      <th>name</th>\n",
       "      <th>host_id</th>\n",
       "      <th>host_name</th>\n",
       "      <th>neighbourhood_group</th>\n",
       "      <th>neighbourhood</th>\n",
       "      <th>latitude</th>\n",
       "      <th>longitude</th>\n",
       "      <th>room_type</th>\n",
       "      <th>price</th>\n",
       "      <th>minimum_nights</th>\n",
       "      <th>number_of_reviews</th>\n",
       "      <th>last_review</th>\n",
       "      <th>reviews_per_month</th>\n",
       "      <th>calculated_host_listings_count</th>\n",
       "      <th>availability_365</th>\n",
       "      <th>number_of_reviews_ltm</th>\n",
       "      <th>license</th>\n",
       "    </tr>\n",
       "  </thead>\n",
       "  <tbody>\n",
       "    <tr>\n",
       "      <th>0</th>\n",
       "      <td>39185194</td>\n",
       "      <td>The Best Rent - One bedroom apartment in Milan</td>\n",
       "      <td>4417813</td>\n",
       "      <td>The Best Rent</td>\n",
       "      <td>NaN</td>\n",
       "      <td>RONCHETTO SUL NAVIGLIO</td>\n",
       "      <td>45.441440</td>\n",
       "      <td>9.140470</td>\n",
       "      <td>Entire home/apt</td>\n",
       "      <td>175.0</td>\n",
       "      <td>1</td>\n",
       "      <td>4</td>\n",
       "      <td>2022-04-27</td>\n",
       "      <td>0.12</td>\n",
       "      <td>155</td>\n",
       "      <td>0</td>\n",
       "      <td>0</td>\n",
       "      <td>015146-LNI-00331</td>\n",
       "    </tr>\n",
       "    <tr>\n",
       "      <th>1</th>\n",
       "      <td>17818971</td>\n",
       "      <td>Studio nel cuore delle cinque vie</td>\n",
       "      <td>20016667</td>\n",
       "      <td>Carlotta</td>\n",
       "      <td>NaN</td>\n",
       "      <td>DUOMO</td>\n",
       "      <td>45.461430</td>\n",
       "      <td>9.184950</td>\n",
       "      <td>Private room</td>\n",
       "      <td>200.0</td>\n",
       "      <td>1</td>\n",
       "      <td>1</td>\n",
       "      <td>2023-04-20</td>\n",
       "      <td>0.09</td>\n",
       "      <td>2</td>\n",
       "      <td>357</td>\n",
       "      <td>1</td>\n",
       "      <td>NaN</td>\n",
       "    </tr>\n",
       "    <tr>\n",
       "      <th>2</th>\n",
       "      <td>1077526403195603262</td>\n",
       "      <td>PrimoPiano - Arrivabene</td>\n",
       "      <td>2504885</td>\n",
       "      <td>Simone</td>\n",
       "      <td>NaN</td>\n",
       "      <td>BOVISA</td>\n",
       "      <td>45.500170</td>\n",
       "      <td>9.165999</td>\n",
       "      <td>Entire home/apt</td>\n",
       "      <td>108.0</td>\n",
       "      <td>2</td>\n",
       "      <td>1</td>\n",
       "      <td>2024-02-12</td>\n",
       "      <td>0.70</td>\n",
       "      <td>128</td>\n",
       "      <td>68</td>\n",
       "      <td>1</td>\n",
       "      <td>015146-LIM-01075</td>\n",
       "    </tr>\n",
       "    <tr>\n",
       "      <th>3</th>\n",
       "      <td>582962332344164114</td>\n",
       "      <td>Italianway - Venini 16</td>\n",
       "      <td>27693585</td>\n",
       "      <td>Italianway</td>\n",
       "      <td>NaN</td>\n",
       "      <td>BUENOS AIRES - VENEZIA</td>\n",
       "      <td>45.487240</td>\n",
       "      <td>9.212029</td>\n",
       "      <td>Entire home/apt</td>\n",
       "      <td>112.0</td>\n",
       "      <td>1</td>\n",
       "      <td>26</td>\n",
       "      <td>2023-11-07</td>\n",
       "      <td>1.07</td>\n",
       "      <td>489</td>\n",
       "      <td>257</td>\n",
       "      <td>4</td>\n",
       "      <td>015146-CIM-04360</td>\n",
       "    </tr>\n",
       "    <tr>\n",
       "      <th>4</th>\n",
       "      <td>626361430623671090</td>\n",
       "      <td>One Suite Meravigli  - 5 mins from DUOMO</td>\n",
       "      <td>458997695</td>\n",
       "      <td>Davide</td>\n",
       "      <td>NaN</td>\n",
       "      <td>DUOMO</td>\n",
       "      <td>45.465786</td>\n",
       "      <td>9.181277</td>\n",
       "      <td>Entire home/apt</td>\n",
       "      <td>134.0</td>\n",
       "      <td>2</td>\n",
       "      <td>100</td>\n",
       "      <td>2024-02-18</td>\n",
       "      <td>4.56</td>\n",
       "      <td>1</td>\n",
       "      <td>180</td>\n",
       "      <td>47</td>\n",
       "      <td>CIR: 015146-LNI-00888</td>\n",
       "    </tr>\n",
       "    <tr>\n",
       "      <th>...</th>\n",
       "      <td>...</td>\n",
       "      <td>...</td>\n",
       "      <td>...</td>\n",
       "      <td>...</td>\n",
       "      <td>...</td>\n",
       "      <td>...</td>\n",
       "      <td>...</td>\n",
       "      <td>...</td>\n",
       "      <td>...</td>\n",
       "      <td>...</td>\n",
       "      <td>...</td>\n",
       "      <td>...</td>\n",
       "      <td>...</td>\n",
       "      <td>...</td>\n",
       "      <td>...</td>\n",
       "      <td>...</td>\n",
       "      <td>...</td>\n",
       "      <td>...</td>\n",
       "    </tr>\n",
       "    <tr>\n",
       "      <th>22101</th>\n",
       "      <td>999255609762923112</td>\n",
       "      <td>stanza luminosa e accogliente</td>\n",
       "      <td>5745369</td>\n",
       "      <td>Marco</td>\n",
       "      <td>NaN</td>\n",
       "      <td>TICINESE</td>\n",
       "      <td>45.451855</td>\n",
       "      <td>9.182139</td>\n",
       "      <td>Private room</td>\n",
       "      <td>69.0</td>\n",
       "      <td>2</td>\n",
       "      <td>6</td>\n",
       "      <td>2024-03-18</td>\n",
       "      <td>1.41</td>\n",
       "      <td>1</td>\n",
       "      <td>248</td>\n",
       "      <td>6</td>\n",
       "      <td>NaN</td>\n",
       "    </tr>\n",
       "    <tr>\n",
       "      <th>22102</th>\n",
       "      <td>43732904</td>\n",
       "      <td>Villa Aida App Superior</td>\n",
       "      <td>302714051</td>\n",
       "      <td>Aida</td>\n",
       "      <td>NaN</td>\n",
       "      <td>SCALO ROMANA</td>\n",
       "      <td>45.440450</td>\n",
       "      <td>9.210560</td>\n",
       "      <td>Entire home/apt</td>\n",
       "      <td>179.0</td>\n",
       "      <td>6</td>\n",
       "      <td>1</td>\n",
       "      <td>2021-03-01</td>\n",
       "      <td>0.03</td>\n",
       "      <td>3</td>\n",
       "      <td>159</td>\n",
       "      <td>0</td>\n",
       "      <td>NaN</td>\n",
       "    </tr>\n",
       "    <tr>\n",
       "      <th>22103</th>\n",
       "      <td>37855859</td>\n",
       "      <td>Sweet Central Suite in Milan</td>\n",
       "      <td>1366623</td>\n",
       "      <td>MATnIV</td>\n",
       "      <td>NaN</td>\n",
       "      <td>DUOMO</td>\n",
       "      <td>45.459570</td>\n",
       "      <td>9.192330</td>\n",
       "      <td>Entire home/apt</td>\n",
       "      <td>138.0</td>\n",
       "      <td>2</td>\n",
       "      <td>164</td>\n",
       "      <td>2024-03-16</td>\n",
       "      <td>2.96</td>\n",
       "      <td>2</td>\n",
       "      <td>30</td>\n",
       "      <td>42</td>\n",
       "      <td>NaN</td>\n",
       "    </tr>\n",
       "    <tr>\n",
       "      <th>22104</th>\n",
       "      <td>1035885357495120445</td>\n",
       "      <td>Studio Centro Milan Porta Romana</td>\n",
       "      <td>2452841</td>\n",
       "      <td>Paolo &amp; Yuki</td>\n",
       "      <td>NaN</td>\n",
       "      <td>PORTA ROMANA</td>\n",
       "      <td>45.453052</td>\n",
       "      <td>9.204039</td>\n",
       "      <td>Entire home/apt</td>\n",
       "      <td>53.0</td>\n",
       "      <td>1</td>\n",
       "      <td>0</td>\n",
       "      <td>NaN</td>\n",
       "      <td>NaN</td>\n",
       "      <td>7</td>\n",
       "      <td>186</td>\n",
       "      <td>0</td>\n",
       "      <td>NaN</td>\n",
       "    </tr>\n",
       "    <tr>\n",
       "      <th>22105</th>\n",
       "      <td>11416076</td>\n",
       "      <td>A lovely home in the heart of Milan</td>\n",
       "      <td>23649817</td>\n",
       "      <td>Sara</td>\n",
       "      <td>NaN</td>\n",
       "      <td>PORTA ROMANA</td>\n",
       "      <td>45.452720</td>\n",
       "      <td>9.203630</td>\n",
       "      <td>Entire home/apt</td>\n",
       "      <td>260.0</td>\n",
       "      <td>7</td>\n",
       "      <td>14</td>\n",
       "      <td>2023-06-10</td>\n",
       "      <td>0.14</td>\n",
       "      <td>2</td>\n",
       "      <td>262</td>\n",
       "      <td>2</td>\n",
       "      <td>NaN</td>\n",
       "    </tr>\n",
       "  </tbody>\n",
       "</table>\n",
       "<p>22106 rows × 18 columns</p>\n",
       "</div>"
      ],
      "text/plain": [
       "                        id                                            name  \\\n",
       "0                 39185194  The Best Rent - One bedroom apartment in Milan   \n",
       "1                 17818971               Studio nel cuore delle cinque vie   \n",
       "2      1077526403195603262                         PrimoPiano - Arrivabene   \n",
       "3       582962332344164114                          Italianway - Venini 16   \n",
       "4       626361430623671090        One Suite Meravigli  - 5 mins from DUOMO   \n",
       "...                    ...                                             ...   \n",
       "22101   999255609762923112                   stanza luminosa e accogliente   \n",
       "22102             43732904                         Villa Aida App Superior   \n",
       "22103             37855859                    Sweet Central Suite in Milan   \n",
       "22104  1035885357495120445                Studio Centro Milan Porta Romana   \n",
       "22105             11416076             A lovely home in the heart of Milan   \n",
       "\n",
       "         host_id      host_name  neighbourhood_group           neighbourhood  \\\n",
       "0        4417813  The Best Rent                  NaN  RONCHETTO SUL NAVIGLIO   \n",
       "1       20016667       Carlotta                  NaN                   DUOMO   \n",
       "2        2504885         Simone                  NaN                  BOVISA   \n",
       "3       27693585     Italianway                  NaN  BUENOS AIRES - VENEZIA   \n",
       "4      458997695         Davide                  NaN                   DUOMO   \n",
       "...          ...            ...                  ...                     ...   \n",
       "22101    5745369          Marco                  NaN                TICINESE   \n",
       "22102  302714051           Aida                  NaN            SCALO ROMANA   \n",
       "22103    1366623         MATnIV                  NaN                   DUOMO   \n",
       "22104    2452841   Paolo & Yuki                  NaN            PORTA ROMANA   \n",
       "22105   23649817           Sara                  NaN            PORTA ROMANA   \n",
       "\n",
       "        latitude  longitude        room_type  price  minimum_nights  \\\n",
       "0      45.441440   9.140470  Entire home/apt  175.0               1   \n",
       "1      45.461430   9.184950     Private room  200.0               1   \n",
       "2      45.500170   9.165999  Entire home/apt  108.0               2   \n",
       "3      45.487240   9.212029  Entire home/apt  112.0               1   \n",
       "4      45.465786   9.181277  Entire home/apt  134.0               2   \n",
       "...          ...        ...              ...    ...             ...   \n",
       "22101  45.451855   9.182139     Private room   69.0               2   \n",
       "22102  45.440450   9.210560  Entire home/apt  179.0               6   \n",
       "22103  45.459570   9.192330  Entire home/apt  138.0               2   \n",
       "22104  45.453052   9.204039  Entire home/apt   53.0               1   \n",
       "22105  45.452720   9.203630  Entire home/apt  260.0               7   \n",
       "\n",
       "       number_of_reviews last_review  reviews_per_month  \\\n",
       "0                      4  2022-04-27               0.12   \n",
       "1                      1  2023-04-20               0.09   \n",
       "2                      1  2024-02-12               0.70   \n",
       "3                     26  2023-11-07               1.07   \n",
       "4                    100  2024-02-18               4.56   \n",
       "...                  ...         ...                ...   \n",
       "22101                  6  2024-03-18               1.41   \n",
       "22102                  1  2021-03-01               0.03   \n",
       "22103                164  2024-03-16               2.96   \n",
       "22104                  0         NaN                NaN   \n",
       "22105                 14  2023-06-10               0.14   \n",
       "\n",
       "       calculated_host_listings_count  availability_365  \\\n",
       "0                                 155                 0   \n",
       "1                                   2               357   \n",
       "2                                 128                68   \n",
       "3                                 489               257   \n",
       "4                                   1               180   \n",
       "...                               ...               ...   \n",
       "22101                               1               248   \n",
       "22102                               3               159   \n",
       "22103                               2                30   \n",
       "22104                               7               186   \n",
       "22105                               2               262   \n",
       "\n",
       "       number_of_reviews_ltm                license  \n",
       "0                          0       015146-LNI-00331  \n",
       "1                          1                    NaN  \n",
       "2                          1       015146-LIM-01075  \n",
       "3                          4       015146-CIM-04360  \n",
       "4                         47  CIR: 015146-LNI-00888  \n",
       "...                      ...                    ...  \n",
       "22101                      6                    NaN  \n",
       "22102                      0                    NaN  \n",
       "22103                     42                    NaN  \n",
       "22104                      0                    NaN  \n",
       "22105                      2                    NaN  \n",
       "\n",
       "[22106 rows x 18 columns]"
      ]
     },
     "execution_count": 4,
     "metadata": {},
     "output_type": "execute_result"
    }
   ],
   "source": [
    "listings"
   ]
  },
  {
   "cell_type": "markdown",
   "id": "84f7546e-e2cb-4145-85ac-423865cb5bbf",
   "metadata": {},
   "source": [
    "##### Shape of the dataframe:\n",
    "\n",
    "##### We have a total of 22106 rows and 18 columns."
   ]
  },
  {
   "cell_type": "code",
   "execution_count": 90,
   "id": "b5092535-9d85-4d0a-8819-ce180b8300fd",
   "metadata": {},
   "outputs": [
    {
     "data": {
      "text/plain": [
       "(22106, 18)"
      ]
     },
     "execution_count": 90,
     "metadata": {},
     "output_type": "execute_result"
    }
   ],
   "source": [
    "listings.shape"
   ]
  },
  {
   "cell_type": "markdown",
   "id": "5fbecbf9-56e1-4b32-9473-23053173c95c",
   "metadata": {},
   "source": [
    "##### The below mentioned are all the columns names available in this dataframe:"
   ]
  },
  {
   "cell_type": "code",
   "execution_count": 73,
   "id": "c79fb73b-4377-4785-85c1-e4db185a1249",
   "metadata": {},
   "outputs": [
    {
     "data": {
      "text/plain": [
       "Index(['id', 'name', 'host_id', 'host_name', 'neighbourhood', 'latitude',\n",
       "       'longitude', 'room_type', 'price', 'minimum_nights',\n",
       "       'number_of_reviews', 'last_review', 'reviews_per_month',\n",
       "       'calculated_host_listings_count', 'availability_365',\n",
       "       'number_of_reviews_ltm', 'license'],\n",
       "      dtype='object')"
      ]
     },
     "execution_count": 73,
     "metadata": {},
     "output_type": "execute_result"
    }
   ],
   "source": [
    "listings.columns"
   ]
  },
  {
   "cell_type": "markdown",
   "id": "b2866103-281c-40ba-af80-e67476d22fc0",
   "metadata": {},
   "source": [
    "##### The function performed below provides us with a concise summary of our dataframe's structure, including the data types of each column, the number of non-null values, and memory usage. "
   ]
  },
  {
   "cell_type": "code",
   "execution_count": 4,
   "id": "5f87ae26-16d9-4d99-8cae-b75645ceecbe",
   "metadata": {},
   "outputs": [
    {
     "name": "stdout",
     "output_type": "stream",
     "text": [
      "<class 'pandas.core.frame.DataFrame'>\n",
      "RangeIndex: 22106 entries, 0 to 22105\n",
      "Data columns (total 18 columns):\n",
      " #   Column                          Non-Null Count  Dtype  \n",
      "---  ------                          --------------  -----  \n",
      " 0   id                              22106 non-null  int64  \n",
      " 1   name                            22106 non-null  object \n",
      " 2   host_id                         22106 non-null  int64  \n",
      " 3   host_name                       22106 non-null  object \n",
      " 4   neighbourhood_group             0 non-null      float64\n",
      " 5   neighbourhood                   22106 non-null  object \n",
      " 6   latitude                        22106 non-null  float64\n",
      " 7   longitude                       22106 non-null  float64\n",
      " 8   room_type                       22106 non-null  object \n",
      " 9   price                           21591 non-null  float64\n",
      " 10  minimum_nights                  22106 non-null  int64  \n",
      " 11  number_of_reviews               22106 non-null  int64  \n",
      " 12  last_review                     17725 non-null  object \n",
      " 13  reviews_per_month               17725 non-null  float64\n",
      " 14  calculated_host_listings_count  22106 non-null  int64  \n",
      " 15  availability_365                22106 non-null  int64  \n",
      " 16  number_of_reviews_ltm           22106 non-null  int64  \n",
      " 17  license                         7887 non-null   object \n",
      "dtypes: float64(5), int64(7), object(6)\n",
      "memory usage: 3.0+ MB\n"
     ]
    }
   ],
   "source": [
    "listings.info()"
   ]
  },
  {
   "cell_type": "markdown",
   "id": "5fd5281e-2728-4cd9-bb32-7e5e3326b264",
   "metadata": {},
   "source": [
    "##### Now let's check if we have any duplicated rows in this dataframe."
   ]
  },
  {
   "cell_type": "code",
   "execution_count": 7,
   "id": "83eb1a2a-a272-47a4-9f67-45af41eed2a1",
   "metadata": {},
   "outputs": [
    {
     "data": {
      "text/plain": [
       "0        False\n",
       "1        False\n",
       "2        False\n",
       "3        False\n",
       "4        False\n",
       "         ...  \n",
       "22101    False\n",
       "22102    False\n",
       "22103    False\n",
       "22104    False\n",
       "22105    False\n",
       "Length: 22106, dtype: bool"
      ]
     },
     "execution_count": 7,
     "metadata": {},
     "output_type": "execute_result"
    }
   ],
   "source": [
    "listings.duplicated()"
   ]
  },
  {
   "cell_type": "code",
   "execution_count": 9,
   "id": "c8259828-5fa1-4060-88ed-0088b899b348",
   "metadata": {},
   "outputs": [
    {
     "name": "stdout",
     "output_type": "stream",
     "text": [
      "Number of duplicate rows: 0\n"
     ]
    }
   ],
   "source": [
    "duplicate_count = listings.duplicated().sum()\n",
    "\n",
    "print(\"Number of duplicate rows:\", duplicate_count)"
   ]
  },
  {
   "cell_type": "markdown",
   "id": "11c68ff1-f95a-4799-9c4d-d942981319ac",
   "metadata": {},
   "source": [
    "##### In this dataframe, we have 0 duplicate rows."
   ]
  },
  {
   "cell_type": "markdown",
   "id": "efe52d3b-8059-4b34-a81a-e7f1d27e8a7a",
   "metadata": {},
   "source": [
    "## Handling Missing Values in the Dataset:"
   ]
  },
  {
   "cell_type": "markdown",
   "id": "c562e9eb-165c-4097-9027-f96ac2eef1cc",
   "metadata": {},
   "source": [
    "##### Checking for NaN, null or missing values:"
   ]
  },
  {
   "cell_type": "code",
   "execution_count": 10,
   "id": "cc6c70f2-687b-4174-a142-8c5a869c22a6",
   "metadata": {},
   "outputs": [
    {
     "data": {
      "text/plain": [
       "id                                    0\n",
       "name                                  0\n",
       "host_id                               0\n",
       "host_name                             0\n",
       "neighbourhood_group               22106\n",
       "neighbourhood                         0\n",
       "latitude                              0\n",
       "longitude                             0\n",
       "room_type                             0\n",
       "price                               515\n",
       "minimum_nights                        0\n",
       "number_of_reviews                     0\n",
       "last_review                        4381\n",
       "reviews_per_month                  4381\n",
       "calculated_host_listings_count        0\n",
       "availability_365                      0\n",
       "number_of_reviews_ltm                 0\n",
       "license                           14219\n",
       "dtype: int64"
      ]
     },
     "execution_count": 10,
     "metadata": {},
     "output_type": "execute_result"
    }
   ],
   "source": [
    "listings.isna().sum() "
   ]
  },
  {
   "cell_type": "markdown",
   "id": "0dd86dfd-25b6-43ba-8139-6cbdc01a031a",
   "metadata": {},
   "source": [
    "##### All rows in the column, \"neighbourhood_group\" have NaN or missing values, therefore we will drop this column completely.\r\n",
    "##### Keeping this column would not contribute to any meaningful analysis, especially given our focus on market opportunity and pricing strategy.\r\n",
    "##### Since there was no usable information in this column and it added no value to our analysis, it was deemed unnecessary and dropped to maintain data clarity and streamline our focus on identifying optimal pricing and potential market opportunitie\n",
    "##### Dropping the column, \"neighbourhood_group\":\":\r\n"
   ]
  },
  {
   "cell_type": "code",
   "execution_count": 41,
   "id": "5978b599-8454-4990-ba0f-f8a8b21485ee",
   "metadata": {},
   "outputs": [
    {
     "name": "stdout",
     "output_type": "stream",
     "text": [
      "Dropped 'neighbourhood_group' column.\n"
     ]
    }
   ],
   "source": [
    "try:\n",
    "    listings = listings.drop(columns=['neighbourhood_group'])\n",
    "    print(\"Dropped 'neighbourhood_group' column.\")\n",
    "except KeyError:\n",
    "    print(\"The column 'neighbourhood_group' does not exist in the DataFrame.\")"
   ]
  },
  {
   "cell_type": "markdown",
   "id": "950d7c95-36d1-4f90-9f0b-bda8a54f466a",
   "metadata": {},
   "source": [
    "##### We will now deal with an important column with NaN values which is, \"price\". First we will find all the listings that have missing values in the \"price\" column and then they will be fetched manually on the Airbnb website and if available, the NaN values will be replaced with the listing's actual price per night. \n",
    "\n",
    "##### The \"price\" column is a critical feature for our analysis, especially for our analysis on investigating possible pricing strategies. Given its importance and the fact that many rows had missing values,# it was crucial to fill these NaN values\n",
    "\n",
    "##### The \"price\" column is a critical feature for our analysis, especially Airbnb's website to retrieve the actual prices and replace the NaN values, ensuring that our analysis remains accurate and reflects real-world data.\n",
    "\n",
    "##### This manual process was chosen to avoid filling with estimates or averages that could distort the insights related to price vs. minimum nights.s.\r\n"
   ]
  },
  {
   "cell_type": "markdown",
   "id": "dc8bd480-43c6-4659-931a-b51dcda81caa",
   "metadata": {},
   "source": [
    "#### Adding correct price value to those rows that had NaN values of price: "
   ]
  },
  {
   "cell_type": "code",
   "execution_count": 78,
   "id": "42498837-a535-4472-bfb8-d4fe679dbc12",
   "metadata": {},
   "outputs": [],
   "source": [
    "listings.loc[20, 'price'] = 200; listings.loc[45, 'price'] = 80; listings.loc[107, 'price'] = 119; listings.loc[263, 'price'] = 122; listings.loc[21620, 'price'] = 402;\n",
    "listings.loc[21621, 'price'] = 60; listings.loc[21622, 'price'] = 300; listings.loc[21624, 'price'] = 679; listings.loc[264, 'price'] = 350;\n",
    "listings.loc[265, 'price'] = 297; listings.loc[270, 'price'] = 80; listings.loc[21616, 'price'] = 250; listings.loc[21617, 'price'] = 250;\n",
    "listings.loc[21618, 'price'] = 142; listings.loc[21613, 'price'] = 250; listings.loc[21614, 'price'] = 80; listings.loc[21615, 'price'] = 300;\n",
    "listings.loc[21612, 'price'] = 220; listings.loc[935, 'price'] = 185; listings.loc[1158, 'price'] = 80; listings.loc[1159, 'price'] = 80;\n",
    "listings.loc[1160, 'price'] = 60; listings.loc[1480, 'price'] = 503; listings.loc[1688, 'price'] = 48; listings.loc[1690, 'price'] = 38;\n",
    "listings.loc[1691, 'price'] = 130; listings.loc[1695, 'price'] = 73; listings.loc[1700, 'price'] = 380; listings.loc[1703, 'price'] = 900;\n",
    "listings.loc[1705, 'price'] = 67; listings.loc[1723, 'price'] = 145; listings.loc[2113, 'price'] = 32; listings.loc[2118, 'price'] = 200;\n",
    "listings.loc[2120, 'price'] = 260; listings.loc[2324, 'price'] = 97; listings.loc[2336, 'price'] = 55; listings.loc[2337, 'price'] = 175;\n",
    "listings.loc[2340, 'price'] = 380; listings.loc[2617, 'price'] = 62; listings.loc[2706, 'price'] = 230; listings.loc[3326, 'price'] = 88;\n",
    "listings.loc[3327, 'price'] = 55; listings.loc[3684, 'price'] = 99; listings.loc[3808, 'price'] = 126; listings.loc[3849, 'price'] = 500;\n",
    "listings.loc[4386, 'price'] = 165; listings.loc[4795, 'price'] = 280; listings.loc[4864, 'price'] = 98; listings.loc[5147, 'price'] = 86;\n",
    "listings.loc[5149, 'price'] = 76; listings.loc[5151, 'price'] = 100; listings.loc[5153, 'price'] = 150; listings.loc[5157, 'price'] = 118;\n",
    "listings.loc[5361, 'price'] = 100; listings.loc[5363, 'price'] = 80; listings.loc[5368, 'price'] = 45; listings.loc[5369, 'price'] = 95;\n",
    "listings.loc[5372, 'price'] = 211; listings.loc[5373, 'price'] = 400; listings.loc[5474, 'price'] = 124; listings.loc[5480, 'price'] = 250;\n",
    "listings.loc[5635, 'price'] = 263; listings.loc[5637, 'price'] = 139; listings.loc[5721, 'price'] = 600; listings.loc[5725, 'price'] = 153;\n",
    "listings.loc[5726, 'price'] = 153; listings.loc[5734, 'price'] = 91; listings.loc[6332, 'price'] = 50; listings.loc[6333, 'price'] = 150;\n",
    "listings.loc[6520, 'price'] = 105; listings.loc[6522, 'price'] = 200; listings.loc[6683, 'price'] = 110; listings.loc[6688, 'price'] = 922;\n",
    "listings.loc[7203, 'price'] = 250; listings.loc[7592, 'price'] = 98; listings.loc[7595, 'price'] = 290; listings.loc[7596, 'price'] = 144;\n",
    "listings.loc[7602, 'price'] = 295; listings.loc[7997, 'price'] = 120; listings.loc[8192, 'price'] = 267; listings.loc[8519, 'price'] = 106;\n",
    "listings.loc[8521, 'price'] = 90; listings.loc[8665, 'price'] = 102; listings.loc[8961, 'price'] = 103; listings.loc[9320, 'price'] = 899;\n",
    "listings.loc[9343, 'price'] = 120; listings.loc[9344, 'price'] = 55; listings.loc[9350, 'price'] = 149; listings.loc[9565, 'price'] = 103;\n",
    "listings.loc[9566, 'price'] = 180; listings.loc[9569, 'price'] = 350; listings.loc[9571, 'price'] = 120; listings.loc[9576, 'price'] = 300;\n",
    "listings.loc[9580, 'price'] = 204; listings.loc[9584, 'price'] = 94; listings.loc[9588, 'price'] = 51; listings.loc[9589, 'price'] = 164;\n",
    "listings.loc[9591, 'price'] = 90; listings.loc[9757, 'price'] = 116; listings.loc[9773, 'price'] = 236; listings.loc[9834, 'price'] = 112;\n",
    "listings.loc[9864, 'price'] = 135; listings.loc[9968, 'price'] = 208; listings.loc[9969, 'price'] = 200; listings.loc[9970, 'price'] = 76;\n",
    "listings.loc[9975, 'price'] = 90; listings.loc[10363, 'price'] = 250; listings.loc[10898, 'price'] = 43; listings.loc[10900, 'price'] = 94;\n",
    "listings.loc[10916, 'price'] = 400; listings.loc[11499, 'price'] = 140; listings.loc[11962, 'price'] = 150; listings.loc[12001, 'price'] = 193;\n",
    "listings.loc[12009, 'price'] = 450; listings.loc[12362, 'price'] = 138; listings.loc[12363, 'price'] = 120; listings.loc[12364, 'price'] = 99;\n",
    "listings.loc[12669, 'price'] = 2000; listings.loc[12677, 'price'] = 100; listings.loc[12679, 'price'] = 90; listings.loc[12681, 'price'] = 74;\n",
    "listings.loc[12682, 'price'] = 100; listings.loc[12683, 'price'] = 46; listings.loc[12686, 'price'] = 80; listings.loc[12688, 'price'] = 101;\n",
    "listings.loc[12869, 'price'] = 89; listings.loc[12872, 'price'] = 60; listings.loc[12873, 'price'] = 600; listings.loc[12877, 'price'] = 93;\n",
    "listings.loc[12882, 'price'] = 170; listings.loc[12883, 'price'] = 500; listings.loc[13079, 'price'] = 350; listings.loc[13082, 'price'] = 80;\n",
    "listings.loc[13113, 'price'] = 120; listings.loc[13114, 'price'] = 211; listings.loc[13117, 'price'] = 85; listings.loc[13119, 'price'] = 50;\n",
    "listings.loc[13122, 'price'] = 124; listings.loc[13124, 'price'] = 100; listings.loc[13332, 'price'] = 130; listings.loc[13333, 'price'] = 87;\n",
    "listings.loc[13337, 'price'] = 103; listings.loc[13338, 'price'] = 99; listings.loc[13341, 'price'] = 250; listings.loc[13343, 'price'] = 45;\n",
    "listings.loc[13604, 'price'] = 120; listings.loc[13713, 'price'] = 86; listings.loc[14128, 'price'] = 149; listings.loc[14274, 'price'] = 86; \n",
    "listings.loc[14299, 'price'] = 322; listings.loc[14303, 'price'] = 145; listings.loc[14491, 'price'] = 253; listings.loc[14494, 'price'] = 92;\n",
    "listings.loc[14657, 'price'] = 100; listings.loc[14664, 'price'] = 109; listings.loc[15128, 'price'] = 69; listings.loc[15244, 'price'] = 120;\n",
    "listings.loc[15544, 'price'] = 89; listings.loc[15545, 'price'] = 118; listings.loc[15546, 'price'] = 65; listings.loc[15547, 'price'] = 206;\n",
    "listings.loc[15551, 'price'] = 105; listings.loc[15552, 'price'] = 200; listings.loc[15553, 'price'] = 165; listings.loc[15554, 'price'] = 60;\n",
    "listings.loc[15555, 'price'] = 100; listings.loc[15558, 'price'] = 300; listings.loc[15559, 'price'] = 130; listings.loc[15560, 'price'] = 80;\n",
    "listings.loc[15739, 'price'] = 210; listings.loc[15741, 'price'] = 80; listings.loc[15744, 'price'] = 100; listings.loc[15748, 'price'] = 199;\n",
    "listings.loc[15749, 'price'] = 121; listings.loc[15754, 'price'] = 750; listings.loc[15756, 'price'] = 373; listings.loc[15904, 'price'] = 142; \n",
    "listings.loc[15956, 'price'] = 185; listings.loc[15969, 'price'] = 155; listings.loc[16194, 'price'] = 85; listings.loc[16209, 'price'] = 120;\n",
    "listings.loc[16210, 'price'] = 140; listings.loc[16638, 'price'] = 118; listings.loc[16861, 'price'] = 35; listings.loc[16879, 'price'] = 101;\n",
    "listings.loc[17181, 'price'] = 200; listings.loc[17187, 'price'] = 125; listings.loc[17188, 'price'] = 143; listings.loc[17191, 'price'] = 250;\n",
    "listings.loc[17775, 'price'] = 108; listings.loc[18109, 'price'] = 245; listings.loc[18110, 'price'] = 200; listings.loc[18113, 'price'] = 292;\n",
    "listings.loc[18118, 'price'] = 62; listings.loc[18119, 'price'] = 179; listings.loc[18318, 'price'] = 35; listings.loc[18324, 'price'] = 200;\n",
    "listings.loc[18325, 'price'] = 60; listings.loc[18328, 'price'] = 475; listings.loc[18329, 'price'] = 124; listings.loc[18330, 'price'] = 108;\n",
    "listings.loc[18333, 'price'] = 74; listings.loc[18622, 'price'] = 200; listings.loc[18728, 'price'] = 85; listings.loc[18730, 'price'] = 85;\n",
    "listings.loc[18731, 'price'] = 132; listings.loc[19304, 'price'] = 130; listings.loc[19345, 'price'] = 284; listings.loc[19634, 'price'] = 102;\n",
    "listings.loc[19636, 'price'] = 69; listings.loc[19637, 'price'] = 90; listings.loc[20446, 'price'] = 180; listings.loc[20475, 'price'] = 70;\n",
    "listings.loc[20476, 'price'] = 136; listings.loc[20478, 'price'] = 305; listings.loc[20482, 'price'] = 500; listings.loc[20486, 'price'] = 472;\n",
    "listings.loc[20674, 'price'] = 150; listings.loc[20675, 'price'] = 139; listings.loc[20677, 'price'] = 120; listings.loc[20682, 'price'] = 119;\n",
    "listings.loc[20685, 'price'] = 180; listings.loc[20686, 'price'] = 98; listings.loc[20687, 'price'] = 100; listings.loc[20688, 'price'] = 120;\n",
    "listings.loc[21282, 'price'] = 100; listings.loc[21493, 'price'] = 60; listings.loc[21497, 'price'] = 70; listings.loc[21498, 'price'] = 900;\n",
    "listings.loc[21500, 'price'] = 300; listings.loc[21509, 'price'] = 90; listings.loc[21517, 'price'] = 100; listings.loc[21527, 'price'] = 75;\n",
    "listings.loc[21531, 'price'] = 200; listings.loc[21532, 'price'] = 160; listings.loc[21537, 'price'] = 75; listings.loc[21540, 'price'] = 180;\n",
    "listings.loc[21544, 'price'] = 140; listings.loc[21550, 'price'] = 450; listings.loc[21551, 'price'] = 80; listings.loc[21552, 'price'] = 400;\n",
    "listings.loc[21556, 'price'] = 100; listings.loc[21557, 'price'] = 85; listings.loc[21558, 'price'] = 90; listings.loc[21559, 'price'] = 60;\n",
    "listings.loc[21560, 'price'] = 145; listings.loc[21561, 'price'] = 35; listings.loc[21562, 'price'] = 333; listings.loc[21564, 'price'] = 160;\n",
    "listings.loc[21567, 'price'] = 160; listings.loc[21568, 'price'] = 300; listings.loc[21569, 'price'] = 335; listings.loc[21570, 'price'] = 194;\n",
    "listings.loc[21571, 'price'] = 300; listings.loc[21574, 'price'] = 180; listings.loc[21576, 'price'] = 84; listings.loc[21578, 'price'] = 138;\n",
    "listings.loc[21581, 'price'] = 250; listings.loc[21584, 'price'] = 1000; listings.loc[21586, 'price'] = 70; listings.loc[21589, 'price'] = 100;\n",
    "listings.loc[21590, 'price'] = 140; listings.loc[21597, 'price'] = 500; listings.loc[21600, 'price'] = 200; listings.loc[21602, 'price'] = 143;\n",
    "listings.loc[21606, 'price'] = 399; listings.loc[21607, 'price'] = 290; listings.loc[21609, 'price'] = 200"
   ]
  },
  {
   "cell_type": "markdown",
   "id": "f7591d2a-c61c-4307-a952-2ed50cfb242b",
   "metadata": {},
   "source": [
    "##### Some listings with more than 2 missing (NaN) values were not found on the Airbnb website, meaning they are unavailable for booking or viewing. \n",
    "\n",
    "##### Since these lisings do not represent active or viewable properties, they were dropped from the dataframe. This ensures that our analysis focuses only on listings that are currently available, provinding more accurate insights into key factors such as price and availability , which depend on actual bookable listings.gs.\r\n"
   ]
  },
  {
   "cell_type": "code",
   "execution_count": 79,
   "id": "5f868a1c-9ac6-4919-8955-52c1fc89b212",
   "metadata": {},
   "outputs": [
    {
     "name": "stdout",
     "output_type": "stream",
     "text": [
      "The rows requested do not exist in the DataFrame.\n"
     ]
    }
   ],
   "source": [
    "# Dropping the two rows as both are not visible on the website and had more than 2 columns with NaN values\n",
    "\n",
    "try:\n",
    "    listings = listings.drop([1074, 1477, 1697, 1825, 2123, 2333, 2338, 2456, 2709, 3678, 4865, 5364, 5365, 5366])\n",
    "    print(\"Dropped listings unavailable on the airbnb website\")\n",
    "except KeyError:\n",
    "    print(\"The rows requested do not exist in the DataFrame.\")"
   ]
  },
  {
   "cell_type": "code",
   "execution_count": 45,
   "id": "81eece9d-14d9-49bf-b491-29003281061a",
   "metadata": {},
   "outputs": [
    {
     "name": "stdout",
     "output_type": "stream",
     "text": [
      "Dropped listings unavailable on the airbnb website\n"
     ]
    }
   ],
   "source": [
    "# Dropping the two rows as both are not visible on the website and had more than 2 columns with NaN values\n",
    "\n",
    "try:\n",
    "    listings = listings.drop([5375, 5724, 6521, 6681, 7482, 7589, 7597, 7600, 7618, 9045, 9348, 9574, 9581, 9863, 10542, 11330, 11846])\n",
    "    print(\"Dropped listings unavailable on the airbnb website\")\n",
    "except KeyError:\n",
    "    print(\"The rows requested do not exist in the DataFrame.\")"
   ]
  },
  {
   "cell_type": "code",
   "execution_count": 13,
   "id": "255a34e9-3389-404d-ace6-d3c9c8fa4b5f",
   "metadata": {},
   "outputs": [
    {
     "name": "stdout",
     "output_type": "stream",
     "text": [
      "Dropped listings unavailable on the airbnb website\n"
     ]
    }
   ],
   "source": [
    "# Dropping the two rows as both are not visible on the website and had more than 2 columns with NaN values\n",
    "\n",
    "try:\n",
    "    listings = listings.drop([12670, 12875, 13109, 13328, 13338, 13340, 14300, 14660, 15245, 15557, 15561, 15752, 18326, 18733, 19465, 19639, 20148, 20484, 20487, 20692, 21554, 21563, 21572, 21601, 21605])\n",
    "    print(\"Dropped listings unavailable on the airbnb website\")\n",
    "except KeyError:\n",
    "    print(\"The rows requested do not exist in the DataFrame.\")"
   ]
  },
  {
   "cell_type": "code",
   "execution_count": 46,
   "id": "b194b4e7-63a1-48ec-87e4-c4d83ae7df2a",
   "metadata": {},
   "outputs": [
    {
     "name": "stdout",
     "output_type": "stream",
     "text": [
      "Dropped listings unavailable on the airbnb website\n"
     ]
    }
   ],
   "source": [
    "try:\n",
    "    listings = listings.drop([2125])\n",
    "    print(\"Dropped listings unavailable on the airbnb website\")\n",
    "except KeyError:\n",
    "    print(\"The rows requested do not exist in the DataFrame.\")"
   ]
  },
  {
   "cell_type": "code",
   "execution_count": 47,
   "id": "c0e32b2a-3b26-4199-8ba8-54ddae5c2cc3",
   "metadata": {},
   "outputs": [
    {
     "name": "stdout",
     "output_type": "stream",
     "text": [
      "Dropped listings unavailable to all the guests\n"
     ]
    }
   ],
   "source": [
    "try:\n",
    "    listings = listings.drop([21623, 4358, 9585, 21555, 21573, 21594, 21599])\n",
    "    print(\"Dropped listings unavailable to all the guests\")\n",
    "except KeyError:\n",
    "    print(\"The rows requested do not exist in the DataFrame.\")"
   ]
  },
  {
   "cell_type": "markdown",
   "id": "e9d4ef1b-fc86-4b15-bd5a-5ce92002d591",
   "metadata": {},
   "source": [
    "## Conversion of monthly priced listings to per-night prices:"
   ]
  },
  {
   "cell_type": "markdown",
   "id": "f0e41efc-be51-454f-bead-40a9ff81e812",
   "metadata": {},
   "source": [
    "##### Some listings had prices listed on a per-month basis instead of per-night. To standardize the data and maintain consistency in our analysis of with the objective we are focusing on, the monthly prices were divided by 30 (the average number of days in a month) to convert them into a per-night price. \n",
    "\n",
    "##### This conversion allows for a fair comparision across all listings and ensures that this analysis reflects accurate pricing information for nightly bookings.\n"
   ]
  },
  {
   "cell_type": "code",
   "execution_count": 48,
   "id": "f0e3e48b-4f6d-4352-851f-d37e1d1ab217",
   "metadata": {},
   "outputs": [
    {
     "name": "stdout",
     "output_type": "stream",
     "text": [
      "Processing row index: 1161, Monthly Price: 21350, Nightly Price: 711.6666666666666\n",
      "Processing row index: 1822, Monthly Price: 3534, Nightly Price: 117.8\n",
      "Processing row index: 2319, Monthly Price: 593, Nightly Price: 19.766666666666666\n",
      "Processing row index: 4348, Monthly Price: 10332, Nightly Price: 344.4\n",
      "Processing row index: 5152, Monthly Price: 1800, Nightly Price: 60.0\n",
      "Processing row index: 5154, Monthly Price: 3799, Nightly Price: 126.63333333333334\n",
      "Processing row index: 9047, Monthly Price: 2400, Nightly Price: 80.0\n",
      "Processing row index: 9340, Monthly Price: 1875, Nightly Price: 62.5\n",
      "Processing row index: 11845, Monthly Price: 2147, Nightly Price: 71.56666666666666\n",
      "Processing row index: 12366, Monthly Price: 2070, Nightly Price: 69.0\n",
      "Processing row index: 12881, Monthly Price: 2250, Nightly Price: 75.0\n",
      "Processing row index: 15243, Monthly Price: 1488, Nightly Price: 49.6\n",
      "Processing row index: 16072, Monthly Price: 2100, Nightly Price: 70.0\n",
      "Processing row index: 18116, Monthly Price: 3600, Nightly Price: 120.0\n",
      "Processing row index: 21491, Monthly Price: 2135, Nightly Price: 71.16666666666667\n",
      "Processing row index: 21592, Monthly Price: 2929, Nightly Price: 97.63333333333334\n",
      "Processing row index: 21603, Monthly Price: 2320, Nightly Price: 77.33333333333333\n"
     ]
    }
   ],
   "source": [
    "# Manually fetched monthly prices\n",
    "monthly_prices_by_index = {\n",
    "    1161: 21350, 1822: 3534, 2319: 593, 4348: 10332, \n",
    "    5152: 1800, 5154: 3799, 9047: 2400, 9340: 1875, 11845: 2147, \n",
    "    12366: 2070, 12881: 2250, 15243: 1488, \n",
    "    16072: 2100, 18116: 3600, 21491: 2135, \n",
    "    21592: 2929, 21603: 2320\n",
    "}\n",
    "\n",
    "for index, monthly_price in monthly_prices_by_index.items():\n",
    "    nightly_price = monthly_price / 30\n",
    "    print(f\"Processing row index: {index}, Monthly Price: {monthly_price}, Nightly Price: {nightly_price}\")\n",
    "    listings.loc[index, 'price'] = nightly_price"
   ]
  },
  {
   "cell_type": "markdown",
   "id": "49a9997b-c377-456e-b568-4395fbca7f7c",
   "metadata": {},
   "source": [
    "#### Dealing with NaN values in the columns, \"last_review\" and \"reviews_per_month\":\n",
    "\n",
    "##### The \"last_review\" and \"reviews_per_month\" columns had missing values. Since reviews can provide valuable insights into listings popularity and quality, imputing missing values helps preserve useful data. \n",
    "\n",
    "##### By maintaining review information, we can more effectively analyze factors like price and demand with a focus on active listings."
   ]
  },
  {
   "cell_type": "markdown",
   "id": "166cb8b7-760f-4a3a-8b7b-cd1fd8e92295",
   "metadata": {},
   "source": [
    "##### For \"last_review\", missing values were filled with the mode date (most frequent date) to reflect a common review period. This ensures the dataset remains as complete as possible without introducing bias or skewing results.ngs.\r\n"
   ]
  },
  {
   "cell_type": "code",
   "execution_count": 61,
   "id": "737edd00-f1e3-419c-932f-cccc9f954df7",
   "metadata": {},
   "outputs": [],
   "source": [
    "# Convert 'last_review' column to datetime type\n",
    "listings['last_review'] = pd.to_datetime(listings['last_review'])\n",
    "\n",
    "# Compute mode of 'last_review' column\n",
    "mode_last_review = listings['last_review'].mode()[0]\n",
    "\n",
    "# Impute missing values with mode\n",
    "listings['last_review'].fillna(mode_last_review, inplace=True)"
   ]
  },
  {
   "cell_type": "markdown",
   "id": "5f5f4e51-d19c-4d43-85fb-285277b30d7b",
   "metadata": {},
   "source": [
    "#### Median Imputation for \"reviews_per_month\" column:\n",
    "\n",
    "##### The median \"reviews_per_month\" provides a typical or representative value for listings, making it suitable for imputing missing values in cases where the exact value may not be known but a typical value is desired to get rid of missing values."
   ]
  },
  {
   "cell_type": "code",
   "execution_count": 71,
   "id": "9a0e9962-470f-4e6f-b085-ddcbcf69ecf0",
   "metadata": {},
   "outputs": [],
   "source": [
    "median_reviews_per_month = listings['reviews_per_month'].median()\n",
    "listings['reviews_per_month'].fillna(median_reviews_per_month, inplace=True)"
   ]
  },
  {
   "cell_type": "markdown",
   "id": "44c151fc-a8c9-4236-96ca-a0547e2548b9",
   "metadata": {},
   "source": [
    "#### Replacing NaN values in 'license' column with the mode (most frequent value)\n",
    "\n",
    "##### The 'license' column was imputed with the mode (most frequent value) because it represents the most common license status across listings. Sice the presence of a license is often standard for most hosts, using the mode ensures that the majority case is reflected for the missing values.This decision helps keep the data consisted without impating the analysis of price vs. minimum nights, as the focus is not heavily reliant on the license column but still requires complteness for overall accuracy.cy.\r\n"
   ]
  },
  {
   "cell_type": "code",
   "execution_count": 66,
   "id": "2fcfa560-d9d2-4bc4-8e3d-7ba03b719807",
   "metadata": {},
   "outputs": [],
   "source": [
    "mode_license = listings['license'].mode()[0]  # Calculate mode license\n",
    "listings['license'].fillna(mode_license, inplace=True)  # Fill NaN values with mode"
   ]
  },
  {
   "cell_type": "markdown",
   "id": "eae956ca-51f5-4da0-9480-0d965530ddb4",
   "metadata": {},
   "source": [
    "#### Checking again for total null values:"
   ]
  },
  {
   "cell_type": "code",
   "execution_count": 82,
   "id": "924b69be-da73-448e-b676-e6ff7d850abb",
   "metadata": {},
   "outputs": [
    {
     "data": {
      "text/plain": [
       "id                                  0\n",
       "name                                0\n",
       "host_id                             0\n",
       "host_name                           0\n",
       "neighbourhood                       0\n",
       "latitude                            0\n",
       "longitude                           0\n",
       "room_type                           0\n",
       "price                             191\n",
       "minimum_nights                      0\n",
       "number_of_reviews                   0\n",
       "last_review                         0\n",
       "reviews_per_month                   0\n",
       "calculated_host_listings_count      0\n",
       "availability_365                    0\n",
       "number_of_reviews_ltm               0\n",
       "license                             0\n",
       "dtype: int64"
      ]
     },
     "execution_count": 82,
     "metadata": {},
     "output_type": "execute_result"
    }
   ],
   "source": [
    "listings.isna().sum() # checking for total null values"
   ]
  },
  {
   "cell_type": "markdown",
   "id": "613f9fc1-def6-4ac8-a2ab-cd687b75178e",
   "metadata": {},
   "source": [
    "##### We see that we are now left with only 191 NaN values in the column, \"price\". These have been thouroughly checked manually on the Airbnb website. They have NaN values because they are unavailable to book currently or till May 2026. \n",
    "\n",
    "##### Including these values in the analysis wouldn't provide meaningful insights, as they are not relevant to the current market conditions. Leaving them as NaN ensures that the analysis is based on active and bookable listings, preserving the integrity of the data without impacting the analysis of the other rows.\r\n"
   ]
  }
 ],
 "metadata": {
  "kernelspec": {
   "display_name": "Python 3 (ipykernel)",
   "language": "python",
   "name": "python3"
  },
  "language_info": {
   "codemirror_mode": {
    "name": "ipython",
    "version": 3
   },
   "file_extension": ".py",
   "mimetype": "text/x-python",
   "name": "python",
   "nbconvert_exporter": "python",
   "pygments_lexer": "ipython3",
   "version": "3.11.7"
  }
 },
 "nbformat": 4,
 "nbformat_minor": 5
}
